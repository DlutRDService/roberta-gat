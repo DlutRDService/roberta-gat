{
 "cells": [
  {
   "cell_type": "code",
   "execution_count": 1,
   "id": "initial_id",
   "metadata": {
    "collapsed": true,
    "ExecuteTime": {
     "end_time": "2024-03-16T04:43:41.321244800Z",
     "start_time": "2024-03-16T04:43:34.608928500Z"
    }
   },
   "outputs": [],
   "source": [
    "import torch\n",
    "import torch.nn as nn\n",
    "import os\n",
    "from transformers import BertTokenizer\n",
    "from dataset import CustomDataset\n",
    "from torch_geometric.loader import DataLoader\n",
    "\n",
    "os.environ['CUDA_LAUNCH_BLOCKING'] = \"1\""
   ]
  },
  {
   "cell_type": "code",
   "execution_count": 2,
   "outputs": [],
   "source": [
    "# 加载数据集\n",
    "from datasets import load_dataset, DatasetDict\n",
    "\n",
    "dataset_train = load_dataset('csv', data_files='data/train.csv', encoding='utf-8')\n",
    "dataset_test = load_dataset('csv', data_files='data/test.csv', encoding='utf-8')\n",
    "dataset_valid = load_dataset('csv', data_files='data/valid.csv', encoding='utf-8')\n",
    "dataset = DatasetDict({'train': dataset_train, 'test': dataset_test, 'validation': dataset_valid})"
   ],
   "metadata": {
    "collapsed": false,
    "ExecuteTime": {
     "end_time": "2024-03-16T04:43:46.326177900Z",
     "start_time": "2024-03-16T04:43:41.323280100Z"
    }
   },
   "id": "eed94b1c37418412"
  },
  {
   "cell_type": "code",
   "execution_count": 3,
   "outputs": [],
   "source": [
    "# bert分词\n",
    "bert_tokenizer = BertTokenizer.from_pretrained(\"bert-base-uncased\")\n",
    "def encode_batch(batch):\n",
    "    return bert_tokenizer(batch['text'], padding='max_length', truncation=True, max_length=72, return_tensors=\"pt\")\n",
    "\n",
    "dataset = {split: dataset[split].map(encode_batch, batched=True) for split in dataset.keys()} \n",
    "dataset['test']['train'] = dataset['test']['train'].remove_columns('text')\n",
    "dataset['train']['train'] = dataset['train']['train'].remove_columns('text')\n",
    "dataset['validation']['train'] = dataset['validation']['train'].remove_columns('text')"
   ],
   "metadata": {
    "collapsed": false,
    "ExecuteTime": {
     "end_time": "2024-03-16T04:44:02.032752100Z",
     "start_time": "2024-03-16T04:43:46.329324Z"
    }
   },
   "id": "f4c5ba3447dbda95"
  },
  {
   "cell_type": "code",
   "execution_count": 4,
   "outputs": [],
   "source": [
    "from utils import get_sentence_rel\n",
    "\n",
    "# 获取边关系\n",
    "train_sen_rel = get_sentence_rel(path='data/train.csv')\n",
    "test_sen_rel = get_sentence_rel(path='data/test.csv')\n",
    "valid_sen_rel = get_sentence_rel(path='data/valid.csv')\n"
   ],
   "metadata": {
    "collapsed": false,
    "ExecuteTime": {
     "end_time": "2024-03-16T04:44:02.034785200Z",
     "start_time": "2024-03-16T04:43:56.944910100Z"
    }
   },
   "id": "9ac96ce251642cf8"
  },
  {
   "cell_type": "code",
   "execution_count": 5,
   "outputs": [],
   "source": [
    "from utils import spilt_node\n",
    "\n",
    "train_data = spilt_node(dataset['train']['train'])\n",
    "test_data = spilt_node(dataset['test']['train'])\n",
    "\n",
    "train_dataset = CustomDataset(train_data, train_sen_rel, 20, 8)\n",
    "test_dataset = CustomDataset(test_data, test_sen_rel, 20, 8)\n",
    "\n",
    "train_loader = DataLoader(train_dataset, batch_size=16, shuffle=True)\n",
    "test_loader = DataLoader(test_dataset, batch_size=16, shuffle=True)"
   ],
   "metadata": {
    "collapsed": false,
    "ExecuteTime": {
     "end_time": "2024-03-16T04:44:12.957307500Z",
     "start_time": "2024-03-16T04:43:58.338661600Z"
    }
   },
   "id": "ffdccf7120e4bb3"
  },
  {
   "cell_type": "code",
   "execution_count": 6,
   "outputs": [],
   "source": [
    "# bert\n",
    "from BertGAT import BertGAT\n",
    "device = torch.device(\"cuda\" if torch.cuda.is_available() else \"cpu\")\n",
    "# model = RobertaGAT('roberta-base', num_classes=4)\n",
    "model = BertGAT(\"bert-base-uncased\", num_classes=5)\n",
    "model.bert_first_half.to('cuda:0')\n",
    "model.bert_second_half.to('cuda:1')\n",
    "\n",
    "weights = torch.tensor([0.0855, 0.1915, 0.2766, 0.3404, 0.1915], dtype=torch.float32)\n",
    "weights = weights.to('cuda:1')  \n",
    "# weights = torch.tensor([0.1915, 0.2766, 0.3404, 0.1915], dtype=torch.float32)\n",
    "# weights = weights.to('cuda:1')  \n",
    "\n",
    "# optimizer = torch.optim.Adam(model.parameters(), lr=1e-5, weight_decay=1e-4)\n",
    "optimizer = torch.optim.AdamW(model.parameters(), lr=1e-5, weight_decay=1e-4)\n",
    "\n",
    "criterion = nn.CrossEntropyLoss(weight=weights)\n",
    "# criterion = nn.CrossEntropyLoss(ignore_index=4, weight=weights)\n",
    "num_epochs = 20"
   ],
   "metadata": {
    "collapsed": false,
    "ExecuteTime": {
     "end_time": "2024-03-16T04:44:24.585911300Z",
     "start_time": "2024-03-16T04:44:12.959542Z"
    }
   },
   "id": "2d4a4e23caa1d529"
  },
  {
   "cell_type": "code",
   "execution_count": null,
   "outputs": [
    {
     "name": "stdout",
     "output_type": "stream",
     "text": [
      "Epoch 1/20, Training Loss: 0.6359631828554384, Testing Loss: 0.4623970452107881, Accuracy: 0.8250085333940153, Recall: 0.826934546874357, F1 Score: 0.8260683227623986\n",
      "Epoch 2/20, Training Loss: 0.4225195901734488, Testing Loss: 0.4072001615637227, Accuracy: 0.8517465013084538, Recall: 0.8541573795735575, F1 Score: 0.8544352639129503\n"
     ]
    }
   ],
   "source": [
    "from sklearn.metrics import accuracy_score, recall_score, f1_score\n",
    "\n",
    "for epoch in range(num_epochs):\n",
    "    model.train()\n",
    "    total_loss = 0\n",
    "\n",
    "    for batch in train_loader:\n",
    "        input_ids = batch[0]['x']\n",
    "        attention_mask = batch[0]['mask']\n",
    "        labels = batch[0]['y']\n",
    "        edge_index = batch[0]['edge_index']\n",
    "        num_nodes_graph = 0\n",
    "\n",
    "        for i in range(1, len(batch)):\n",
    "            edge_index_tmp = (batch[i]['edge_index'] + num_nodes_graph)\n",
    "            edge_index = torch.cat((edge_index, edge_index_tmp), dim=1)\n",
    "            num_nodes_graph += batch[i]['x'].size(0)\n",
    "            input_ids = torch.cat((input_ids, batch[i]['x']), dim=0)\n",
    "            attention_mask  = torch.cat((attention_mask, batch[i]['mask']), dim=0)\n",
    "            labels = torch.cat((labels, batch[i]['y']), dim=0)\n",
    "\n",
    "        input_ids = input_ids.to('cuda:0')\n",
    "        attention_mask = attention_mask.to('cuda:0')\n",
    "        edge_index = edge_index.to('cuda:1')\n",
    "        labels = labels.to('cuda:1')\n",
    "    \n",
    "        optimizer.zero_grad()\n",
    "        output, weight1 = model(input_ids, attention_mask, edge_index)\n",
    "        loss = criterion(output.to(\"cuda:1\"), labels)\n",
    "        # print(loss)\n",
    "        loss.backward()\n",
    "        optimizer.step()\n",
    "        total_loss += loss.item()\n",
    "\n",
    "        torch.cuda.empty_cache()\n",
    "\n",
    "    avg_loss = total_loss / len(train_loader)\n",
    "    \n",
    "    torch.save(model.state_dict(), f'./model/model_epoch_{epoch}.pth')\n",
    "    model.eval()  # 测试\n",
    "    total_test_loss = 0\n",
    "    all_labels = []\n",
    "    all_preds = []\n",
    "    with torch.no_grad():  \n",
    "        for batch in test_loader:\n",
    "            input_ids = batch[0]['x']\n",
    "            attention_mask = batch[0]['mask']\n",
    "            labels = batch[0]['y']\n",
    "            edge_index = batch[0]['edge_index']\n",
    "            num_nodes_graph = 0\n",
    "            \n",
    "            for i in range(1, len(batch)):\n",
    "                edge_index_tmp = (batch[i]['edge_index'] + num_nodes_graph)\n",
    "                edge_index = torch.cat((edge_index, edge_index_tmp), dim=1)\n",
    "                num_nodes_graph += batch[i]['x'].size(0)\n",
    "                input_ids = torch.cat((input_ids, batch[i]['x']), dim=0)\n",
    "                attention_mask  = torch.cat((attention_mask, batch[i]['mask']), dim=0)\n",
    "                labels = torch.cat((labels, batch[i]['y']), dim=0)\n",
    "                \n",
    "            input_ids = input_ids.to('cuda:0')\n",
    "            attention_mask = attention_mask.to('cuda:0')\n",
    "            edge_index = edge_index.to('cuda:1')\n",
    "            labels = labels.to('cuda:1')\n",
    "            \n",
    "            output, weight1 = model(input_ids, attention_mask, edge_index)\n",
    "            loss = criterion(output.to(\"cuda:1\"), labels)\n",
    "            total_test_loss += loss.item()\n",
    "            \n",
    "            preds = output.argmax(dim=1)\n",
    "\n",
    "            all_labels.extend(labels.cpu().numpy())\n",
    "            all_preds.extend(preds.cpu().numpy())\n",
    "            torch.cuda.empty_cache()\n",
    "            \n",
    "    avg_test_loss = total_test_loss / len(test_loader)\n",
    "\n",
    "    accuracy = accuracy_score(all_labels, all_preds)\n",
    "    recall = recall_score(all_labels, all_preds, average='macro')\n",
    "    f1 = f1_score(all_labels, all_preds, average='macro')\n",
    "    \n",
    "    print(f\"Epoch {epoch+1}/{num_epochs}, Training Loss: {avg_loss}, Testing Loss: {avg_test_loss}, Accuracy: {accuracy}, Recall: {recall}, F1 Score: {f1}\") "
   ],
   "metadata": {
    "collapsed": false,
    "is_executing": true,
    "ExecuteTime": {
     "start_time": "2024-03-16T04:44:24.594206800Z"
    }
   },
   "id": "f8ce666abf8be2ba"
  }
 ],
 "metadata": {
  "kernelspec": {
   "display_name": "Python 3",
   "language": "python",
   "name": "python3"
  },
  "language_info": {
   "codemirror_mode": {
    "name": "ipython",
    "version": 2
   },
   "file_extension": ".py",
   "mimetype": "text/x-python",
   "name": "python",
   "nbconvert_exporter": "python",
   "pygments_lexer": "ipython2",
   "version": "2.7.6"
  }
 },
 "nbformat": 4,
 "nbformat_minor": 5
}

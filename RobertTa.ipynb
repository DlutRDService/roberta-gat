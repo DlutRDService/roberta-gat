{
 "cells": [
  {
   "cell_type": "code",
   "execution_count": 1,
   "outputs": [
    {
     "name": "stdout",
     "output_type": "stream",
     "text": [
      "{'input_ids': [0, 1000, 18266, 8, 272, 7976, 2], 'attention_mask': [1, 1, 1, 1, 1, 1, 1]}\n"
     ]
    }
   ],
   "source": [
    "from transformers import RobertaTokenizer\n",
    "# 简单测试过基础分词器的分词效果还可以，类似\"XGT and GBL\"，\n",
    "# 并不会将XGT与GBL拆开。其中0表示开头2表示结尾。\n",
    "# 分词器大概是256，大多句子并不会超过这个阈值。\n",
    "tokenizer = RobertaTokenizer.from_pretrained('roberta-base')\n",
    "text = \"XGT and GBL\"\n",
    "print(tokenizer(text))"
   ],
   "metadata": {
    "collapsed": false,
    "ExecuteTime": {
     "end_time": "2023-12-04T06:28:51.128948Z",
     "start_time": "2023-12-04T06:28:42.486044Z"
    }
   },
   "id": "f926b40460be8ec9"
  },
  {
   "cell_type": "code",
   "execution_count": 2,
   "outputs": [],
   "source": [
    "from datasets import load_dataset, DatasetDict\n",
    "from transformers import RobertaTokenizer\n",
    "from transformers import RobertaForSequenceClassification\n",
    "from transformers import TrainingArguments\n",
    "from transformers import Trainer"
   ],
   "metadata": {
    "collapsed": false,
    "ExecuteTime": {
     "end_time": "2023-12-04T06:28:56.686020Z",
     "start_time": "2023-12-04T06:28:49.562645Z"
    }
   },
   "id": "8f1e7b0c263cd66d"
  },
  {
   "cell_type": "code",
   "execution_count": 3,
   "outputs": [],
   "source": [
    "# 加载分词器,挂了代理无法加载？\n",
    "tokenizer = RobertaTokenizer.from_pretrained('roberta-base')"
   ],
   "metadata": {
    "collapsed": false,
    "ExecuteTime": {
     "end_time": "2023-12-04T06:28:59.063107Z",
     "start_time": "2023-12-04T06:28:56.706203Z"
    }
   },
   "id": "de1d54c7f7cc4da3"
  },
  {
   "cell_type": "code",
   "execution_count": 4,
   "outputs": [],
   "source": [
    "# 分词函数，将文本转换为模型需要的格式\n",
    "def tokenize_function(examples):\n",
    "    return tokenizer(examples['text'], padding='max_length', truncation=True)"
   ],
   "metadata": {
    "collapsed": false,
    "ExecuteTime": {
     "end_time": "2023-12-04T06:28:59.146369Z",
     "start_time": "2023-12-04T06:28:59.069127Z"
    }
   },
   "id": "8566946dd35e5dcd"
  },
  {
   "cell_type": "code",
   "execution_count": 5,
   "outputs": [],
   "source": [
    "# 加载数据集\n",
    "dataset = load_dataset('csv', data_files='./dataset.csv')\n",
    "# 手动划分数据集为训练集和测试集\n",
    "dataset = dataset['train'].train_test_split(test_size=0.2)\n",
    "dataset = DatasetDict({\n",
    "    'train': dataset['train'],\n",
    "    'test': dataset['test']\n",
    "})"
   ],
   "metadata": {
    "collapsed": false,
    "ExecuteTime": {
     "end_time": "2023-12-04T06:28:59.182465Z",
     "start_time": "2023-12-04T06:28:59.087912Z"
    }
   },
   "id": "3c03f8ffd7316925"
  },
  {
   "cell_type": "code",
   "execution_count": 6,
   "outputs": [
    {
     "data": {
      "text/plain": "Map:   0%|          | 0/81939 [00:00<?, ? examples/s]",
      "application/vnd.jupyter.widget-view+json": {
       "version_major": 2,
       "version_minor": 0,
       "model_id": "ac15d15e385a493aa2c341bcbe3d9508"
      }
     },
     "metadata": {},
     "output_type": "display_data"
    },
    {
     "data": {
      "text/plain": "Map:   0%|          | 0/20485 [00:00<?, ? examples/s]",
      "application/vnd.jupyter.widget-view+json": {
       "version_major": 2,
       "version_minor": 0,
       "model_id": "46d51842ad0b4c62956aa17997c8f495"
      }
     },
     "metadata": {},
     "output_type": "display_data"
    }
   ],
   "source": [
    "# 使用分词函数处理数据集\n",
    "tokenized_datasets = dataset.map(tokenize_function, batched=True)"
   ],
   "metadata": {
    "collapsed": false,
    "ExecuteTime": {
     "end_time": "2023-12-04T06:29:45.393739Z",
     "start_time": "2023-12-04T06:28:59.170198Z"
    }
   },
   "id": "bd5bde7a658cb768"
  },
  {
   "cell_type": "code",
   "execution_count": 7,
   "outputs": [],
   "source": [
    "# 指定模型的类别数量\n",
    "num_labels = len(set(dataset['train']['label']))"
   ],
   "metadata": {
    "collapsed": false,
    "ExecuteTime": {
     "end_time": "2023-12-04T06:29:45.862777Z",
     "start_time": "2023-12-04T06:29:45.396418Z"
    }
   },
   "id": "5a0b0e6e5df09685"
  },
  {
   "cell_type": "code",
   "execution_count": 8,
   "outputs": [
    {
     "name": "stderr",
     "output_type": "stream",
     "text": [
      "Some weights of RobertaForSequenceClassification were not initialized from the model checkpoint at roberta-base and are newly initialized: ['classifier.dense.weight', 'classifier.out_proj.weight', 'classifier.dense.bias', 'classifier.out_proj.bias']\n",
      "You should probably TRAIN this model on a down-stream task to be able to use it for predictions and inference.\n"
     ]
    }
   ],
   "source": [
    "# 加载预训练模型,初次加载会下载模型，不过hf明明被封了。。。但是还能不挂代理下载。\n",
    "model = RobertaForSequenceClassification.from_pretrained('roberta-base', num_labels=num_labels)"
   ],
   "metadata": {
    "collapsed": false,
    "pycharm": {
     "name": "#%%\n"
    },
    "ExecuteTime": {
     "end_time": "2023-12-04T06:29:50.019842Z",
     "start_time": "2023-12-04T06:29:45.863063Z"
    }
   },
   "id": "5ab91bc362c52e90"
  },
  {
   "cell_type": "code",
   "execution_count": 9,
   "outputs": [],
   "source": [
    "# 定义训练参数，此参数为低配cpu，服务器运行参数需要重新调试。\n",
    "training_args = TrainingArguments(\n",
    "    output_dir='./results',          # 模型输出文件夹\n",
    "    num_train_epochs=20,             # 训练轮次\n",
    "    per_device_train_batch_size=2000,# 每个设备的训练批量大小\n",
    "    per_device_eval_batch_size=2000, # 每个设备的评估批量大小\n",
    "    warmup_steps=0,                  # 预热步骤\n",
    "    weight_decay=0.01,               # 权重衰减\n",
    "    logging_dir='./logs',            # 日志文件夹\n",
    "    evaluation_strategy=\"epoch\",\n",
    "    save_strategy=\"epoch\",\n",
    "    logging_steps=10,                # 多少步骤记录一次日志\n",
    "    load_best_model_at_end=True,     # 训练结束后载入最佳模型\n",
    ")"
   ],
   "metadata": {
    "collapsed": false,
    "ExecuteTime": {
     "end_time": "2023-12-04T06:29:50.108535Z",
     "start_time": "2023-12-04T06:29:49.990513Z"
    }
   },
   "id": "11e61e02c662f370"
  },
  {
   "cell_type": "code",
   "execution_count": 10,
   "outputs": [],
   "source": [
    "# 初始化训练器\n",
    "trainer = Trainer(\n",
    "    model=model,\n",
    "    args=training_args,\n",
    "    train_dataset=tokenized_datasets['train'],\n",
    "    eval_dataset=tokenized_datasets['test']\n",
    ")"
   ],
   "metadata": {
    "collapsed": false,
    "ExecuteTime": {
     "end_time": "2023-12-04T06:29:50.299617Z",
     "start_time": "2023-12-04T06:29:50.040741Z"
    }
   },
   "id": "ae70d4702089a876"
  },
  {
   "cell_type": "code",
   "execution_count": 14,
   "outputs": [
    {
     "name": "stdout",
     "output_type": "stream",
     "text": [
      "The tensorboard extension is already loaded. To reload it, use:\n",
      "  %reload_ext tensorboard\n"
     ]
    },
    {
     "data": {
      "text/plain": "Launching TensorBoard..."
     },
     "metadata": {},
     "output_type": "display_data"
    },
    {
     "data": {
      "text/plain": "<IPython.core.display.HTML object>",
      "text/html": "\n      <iframe id=\"tensorboard-frame-bdd640fb06671ad1\" width=\"100%\" height=\"800\" frameborder=\"0\">\n      </iframe>\n      <script>\n        (function() {\n          const frame = document.getElementById(\"tensorboard-frame-bdd640fb06671ad1\");\n          const url = new URL(\"/\", window.location);\n          const port = 6006;\n          if (port) {\n            url.port = port;\n          }\n          frame.src = url;\n        })();\n      </script>\n    "
     },
     "metadata": {},
     "output_type": "display_data"
    }
   ],
   "source": [
    "# 加载图像化工具，使用pip install tensorboard安装\n",
    "%load_ext tensorboard  \n",
    "%tensorboard --logdir ./logs"
   ],
   "metadata": {
    "collapsed": false,
    "ExecuteTime": {
     "end_time": "2023-12-04T06:31:44.978173Z",
     "start_time": "2023-12-04T06:31:44.859288Z"
    }
   },
   "id": "aafee6ce7db7b377"
  },
  {
   "cell_type": "code",
   "execution_count": null,
   "outputs": [],
   "source": [
    "# 开始训练\n",
    "trainer.train()"
   ],
   "metadata": {
    "collapsed": false,
    "is_executing": true,
    "ExecuteTime": {
     "start_time": "2023-12-04T06:31:49.324588Z"
    }
   },
   "id": "c178e32d34fb046c"
  }
 ],
 "metadata": {
  "kernelspec": {
   "display_name": "Python 3",
   "language": "python",
   "name": "python3"
  },
  "language_info": {
   "codemirror_mode": {
    "name": "ipython",
    "version": 2
   },
   "file_extension": ".py",
   "mimetype": "text/x-python",
   "name": "python",
   "nbconvert_exporter": "python",
   "pygments_lexer": "ipython2",
   "version": "2.7.6"
  }
 },
 "nbformat": 4,
 "nbformat_minor": 5
}

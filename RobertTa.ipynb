{
 "cells": [
  {
   "cell_type": "code",
   "execution_count": 18,
   "outputs": [],
   "source": [
    "from datasets import load_dataset, DatasetDict\n",
    "from transformers import RobertaTokenizer\n",
    "from transformers import RobertaForSequenceClassification\n",
    "from transformers import TrainingArguments\n",
    "from transformers import Trainer"
   ],
   "metadata": {
    "collapsed": false,
    "ExecuteTime": {
     "end_time": "2023-11-23T12:34:24.908830800Z",
     "start_time": "2023-11-23T12:34:24.842996700Z"
    }
   },
   "id": "f926b40460be8ec9"
  },
  {
   "cell_type": "code",
   "execution_count": 19,
   "outputs": [],
   "source": [
    "# 挂代理，经常抽风。wireguard路由解决了这个问题。\n",
    "# import os\n",
    "# os.environ['http_proxy'] = 'http://127.0.0.1:10809'\n",
    "# os.environ['https_proxy'] = 'https://127.0.0.1:10809'"
   ],
   "metadata": {
    "collapsed": false,
    "ExecuteTime": {
     "end_time": "2023-11-23T12:34:25.532673Z",
     "start_time": "2023-11-23T12:34:25.480659800Z"
    }
   },
   "id": "5dee95bba61bb30a"
  },
  {
   "cell_type": "code",
   "execution_count": 20,
   "outputs": [],
   "source": [
    "# 简单测试过基础分词器的分词效果还可以，类似\"XGT and GBL\"，\n",
    "# 并不会将XGT与GBL拆开。其中0表示开头2表示结尾。\n",
    "# 分词器够大，正常100词句子并不会超过这个阈值。\n",
    "# tokenizer = RobertaTokenizer.from_pretrained('roberta-base')\n",
    "# text = \"XGT and GBL\"\n",
    "# print(tokenizer(text))"
   ],
   "metadata": {
    "collapsed": false,
    "ExecuteTime": {
     "end_time": "2023-11-23T12:34:26.167668100Z",
     "start_time": "2023-11-23T12:34:26.123656800Z"
    }
   },
   "id": "8f1e7b0c263cd66d"
  },
  {
   "cell_type": "code",
   "execution_count": 21,
   "outputs": [
    {
     "name": "stderr",
     "output_type": "stream",
     "text": [
      "Found cached dataset csv (C:/Users/zsl/.cache/huggingface/datasets/csv/default-ff715c64cdbb169d/0.0.0/eea64c71ca8b46dd3f537ed218fc9bf495d5707789152eb2764f5c78fa66d59d)\n"
     ]
    },
    {
     "data": {
      "text/plain": "  0%|          | 0/1 [00:00<?, ?it/s]",
      "application/vnd.jupyter.widget-view+json": {
       "version_major": 2,
       "version_minor": 0,
       "model_id": "1cf8126a69bc439e9f69aca2d0fb10b8"
      }
     },
     "metadata": {},
     "output_type": "display_data"
    }
   ],
   "source": [
    "# 加载分词器\n",
    "tokenizer = RobertaTokenizer.from_pretrained('roberta-base')\n",
    "# 加载数据集\n",
    "dataset = load_dataset('csv', data_files='./data/dataset.csv')"
   ],
   "metadata": {
    "collapsed": false,
    "ExecuteTime": {
     "end_time": "2023-11-23T12:34:34.150380500Z",
     "start_time": "2023-11-23T12:34:26.822756600Z"
    }
   },
   "id": "de1d54c7f7cc4da3"
  },
  {
   "cell_type": "code",
   "execution_count": 22,
   "outputs": [],
   "source": [
    "# 分词函数，将文本转换为模型需要的格式\n",
    "def tokenize_function(examples):\n",
    "    return tokenizer(examples['text'], padding='max_length', truncation=True)"
   ],
   "metadata": {
    "collapsed": false,
    "ExecuteTime": {
     "end_time": "2023-11-23T12:34:34.170386Z",
     "start_time": "2023-11-23T12:34:34.134113700Z"
    }
   },
   "id": "8566946dd35e5dcd"
  },
  {
   "cell_type": "code",
   "execution_count": null,
   "outputs": [],
   "source": [
    "# 手动划分数据集为训练集和测试集\n",
    "dataset = dataset['train'].train_test_split(test_size=0.2)\n",
    "dataset = DatasetDict({\n",
    "    'train': dataset['train'],\n",
    "    'test': dataset['test']\n",
    "})\n",
    "# TODO 添加验证集\n",
    "## code..."
   ],
   "metadata": {
    "collapsed": false
   },
   "id": "3c03f8ffd7316925"
  },
  {
   "cell_type": "code",
   "execution_count": null,
   "outputs": [],
   "source": [
    "# 使用分词函数处理数据集\n",
    "tokenized_datasets = dataset.map(tokenize_function, batched=True)"
   ],
   "metadata": {
    "collapsed": false
   },
   "id": "bd5bde7a658cb768"
  },
  {
   "cell_type": "code",
   "execution_count": 25,
   "outputs": [],
   "source": [
    "# 指定模型的类别数量\n",
    "num_labels = len(set(dataset['train']['label']))"
   ],
   "metadata": {
    "collapsed": false,
    "ExecuteTime": {
     "end_time": "2023-11-23T12:34:38.185850700Z",
     "start_time": "2023-11-23T12:34:38.169846700Z"
    }
   },
   "id": "5a0b0e6e5df09685"
  },
  {
   "cell_type": "code",
   "execution_count": 26,
   "outputs": [
    {
     "name": "stderr",
     "output_type": "stream",
     "text": [
      "Some weights of the model checkpoint at roberta-base were not used when initializing RobertaForSequenceClassification: ['lm_head.dense.weight', 'lm_head.bias', 'lm_head.dense.bias', 'lm_head.layer_norm.weight', 'lm_head.layer_norm.bias']\n",
      "- This IS expected if you are initializing RobertaForSequenceClassification from the checkpoint of a model trained on another task or with another architecture (e.g. initializing a BertForSequenceClassification model from a BertForPreTraining model).\n",
      "- This IS NOT expected if you are initializing RobertaForSequenceClassification from the checkpoint of a model that you expect to be exactly identical (initializing a BertForSequenceClassification model from a BertForSequenceClassification model).\n",
      "Some weights of RobertaForSequenceClassification were not initialized from the model checkpoint at roberta-base and are newly initialized: ['classifier.dense.bias', 'classifier.out_proj.weight', 'classifier.dense.weight', 'classifier.out_proj.bias']\n",
      "You should probably TRAIN this model on a down-stream task to be able to use it for predictions and inference.\n"
     ]
    }
   ],
   "source": [
    "# 加载预训练模型,初次加载会下载模型，不过hf明明被封了。。。但是还能不挂代理下载。\n",
    "model = RobertaForSequenceClassification.from_pretrained('roberta-base', num_labels=num_labels)"
   ],
   "metadata": {
    "collapsed": false,
    "pycharm": {
     "name": "#%%\n"
    },
    "ExecuteTime": {
     "end_time": "2023-11-23T12:34:40.805063200Z",
     "start_time": "2023-11-23T12:34:38.185850700Z"
    }
   },
   "id": "5ab91bc362c52e90"
  },
  {
   "cell_type": "code",
   "execution_count": 27,
   "outputs": [],
   "source": [
    "from transformers import TrainerCallback\n",
    "\n",
    "class PrintCallback(TrainerCallback):\n",
    "    def on_log(self, args, state, control, logs=None, **kwargs):\n",
    "        # 可以打印出logs里的信息，比如训练损失\n",
    "        print(logs)"
   ],
   "metadata": {
    "collapsed": false,
    "ExecuteTime": {
     "end_time": "2023-11-23T12:34:40.805063200Z",
     "start_time": "2023-11-23T12:34:40.789063200Z"
    }
   },
   "id": "68705130d9a901c2"
  },
  {
   "cell_type": "code",
   "execution_count": 30,
   "outputs": [],
   "source": [
    "# TODO 查一下常用参数意义\n",
    "# 定义训练参数，此参数为低配cpu，服务器运行参数需要重新调试。\n",
    "training_args = TrainingArguments(\n",
    "    output_dir='./results',          # 模型输出文件夹\n",
    "    num_train_epochs=50,             # 训练轮次\n",
    "    per_device_train_batch_size=8,   # 每个设备的训练批量大小\n",
    "    per_device_eval_batch_size=8,    # 每个设备的评估批量大小\n",
    "    warmup_steps=0,                  # 预热步骤\n",
    "    weight_decay=0.01,               # 权重衰减\n",
    "    logging_dir='./logs',            # 日志文件夹\n",
    "    save_steps=8,\n",
    "    eval_steps=4,                    # 指定多少步骤后进行评估并记录日志\\\n",
    "    logging_steps=4,                 # 多少步骤记录一次日志\n",
    ")"
   ],
   "metadata": {
    "collapsed": false,
    "ExecuteTime": {
     "end_time": "2023-11-23T12:35:33.420458500Z",
     "start_time": "2023-11-23T12:35:33.354814800Z"
    }
   },
   "id": "11e61e02c662f370"
  },
  {
   "cell_type": "code",
   "execution_count": 31,
   "outputs": [],
   "source": [
    "# 初始化训练器\n",
    "trainer = Trainer(\n",
    "    model=model,\n",
    "    args=training_args,\n",
    "    train_dataset=tokenized_datasets['train'],\n",
    "    eval_dataset=tokenized_datasets['test'],\n",
    "    callbacks=[PrintCallback]\n",
    ")"
   ],
   "metadata": {
    "collapsed": false,
    "ExecuteTime": {
     "end_time": "2023-11-23T12:35:44.480785Z",
     "start_time": "2023-11-23T12:35:44.208841600Z"
    }
   },
   "id": "ae70d4702089a876"
  },
  {
   "cell_type": "code",
   "execution_count": 32,
   "outputs": [
    {
     "name": "stdout",
     "output_type": "stream",
     "text": [
      "The tensorboard extension is already loaded. To reload it, use:\n",
      "  %reload_ext tensorboard\n"
     ]
    },
    {
     "data": {
      "text/plain": "Launching TensorBoard..."
     },
     "metadata": {},
     "output_type": "display_data"
    },
    {
     "data": {
      "text/plain": "<IPython.core.display.HTML object>",
      "text/html": "\n      <iframe id=\"tensorboard-frame-1c80317fa3b1799d\" width=\"100%\" height=\"800\" frameborder=\"0\">\n      </iframe>\n      <script>\n        (function() {\n          const frame = document.getElementById(\"tensorboard-frame-1c80317fa3b1799d\");\n          const url = new URL(\"/\", window.location);\n          const port = 6006;\n          if (port) {\n            url.port = port;\n          }\n          frame.src = url;\n        })();\n      </script>\n    "
     },
     "metadata": {},
     "output_type": "display_data"
    }
   ],
   "source": [
    "# 加载图像化工具TensorBoard\n",
    "%load_ext tensorboard\n",
    "%tensorboard --logdir ./logs"
   ],
   "metadata": {
    "collapsed": false,
    "ExecuteTime": {
     "end_time": "2023-11-23T12:35:45.153969Z",
     "start_time": "2023-11-23T12:35:45.026606900Z"
    }
   },
   "id": "c178e32d34fb046c"
  },
  {
   "cell_type": "code",
   "execution_count": null,
   "outputs": [
    {
     "name": "stderr",
     "output_type": "stream",
     "text": [
      "D:\\Anaconda\\lib\\site-packages\\transformers\\optimization.py:415: FutureWarning: This implementation of AdamW is deprecated and will be removed in a future version. Use the PyTorch implementation torch.optim.AdamW instead, or set `no_deprecation_warning=True` to disable this warning\n",
      "  FutureWarning,\n"
     ]
    },
    {
     "data": {
      "text/plain": "<IPython.core.display.HTML object>",
      "text/html": "\n    <div>\n      \n      <progress value='2' max='100' style='width:300px; height:20px; vertical-align: middle;'></progress>\n      [  2/100 : < :, Epoch 0.50/50]\n    </div>\n    <table border=\"1\" class=\"dataframe\">\n  <thead>\n <tr style=\"text-align: left;\">\n      <th>Step</th>\n      <th>Training Loss</th>\n    </tr>\n  </thead>\n  <tbody>\n  </tbody>\n</table><p>"
     },
     "metadata": {},
     "output_type": "display_data"
    },
    {
     "name": "stdout",
     "output_type": "stream",
     "text": [
      "{'loss': 1.4049, 'learning_rate': 4.8e-05, 'epoch': 2.0}\n",
      "{'loss': 1.3453, 'learning_rate': 4.600000000000001e-05, 'epoch': 4.0}\n"
     ]
    }
   ],
   "source": [
    "# 开始训练\n",
    "trainer.train()"
   ],
   "metadata": {
    "collapsed": false,
    "is_executing": true,
    "ExecuteTime": {
     "start_time": "2023-11-23T12:35:52.405621500Z"
    }
   },
   "id": "28d55625b5f21361"
  },
  {
   "cell_type": "code",
   "execution_count": null,
   "outputs": [],
   "source": [],
   "metadata": {
    "collapsed": false
   },
   "id": "a17868ee7e4745e1"
  }
 ],
 "metadata": {
  "kernelspec": {
   "display_name": "Python 3",
   "language": "python",
   "name": "python3"
  },
  "language_info": {
   "codemirror_mode": {
    "name": "ipython",
    "version": 2
   },
   "file_extension": ".py",
   "mimetype": "text/x-python",
   "name": "python",
   "nbconvert_exporter": "python",
   "pygments_lexer": "ipython2",
   "version": "2.7.6"
  }
 },
 "nbformat": 4,
 "nbformat_minor": 5
}

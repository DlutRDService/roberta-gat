{
 "cells": [
  {
   "cell_type": "code",
   "execution_count": 3,
   "id": "initial_id",
   "metadata": {
    "collapsed": true,
    "ExecuteTime": {
     "end_time": "2024-01-06T02:10:21.802016900Z",
     "start_time": "2024-01-06T02:10:21.793524900Z"
    }
   },
   "outputs": [],
   "source": [
    "import torch\n",
    "import torch.nn as nn\n",
    "import os\n",
    "from model import RobertaGAT\n",
    "from dataset import CustomDataset\n",
    "from torch_geometric.loader import DataLoader\n",
    "\n",
    "os.environ['CUDA_LAUNCH_BLOCKING'] = \"1\""
   ]
  },
  {
   "cell_type": "code",
   "execution_count": 4,
   "outputs": [
    {
     "data": {
      "text/plain": "Downloading data files:   0%|          | 0/1 [00:00<?, ?it/s]",
      "application/vnd.jupyter.widget-view+json": {
       "version_major": 2,
       "version_minor": 0,
       "model_id": "24fb59ab35bc4e09b64ca02dcdad76ea"
      }
     },
     "metadata": {},
     "output_type": "display_data"
    },
    {
     "data": {
      "text/plain": "Extracting data files:   0%|          | 0/1 [00:00<?, ?it/s]",
      "application/vnd.jupyter.widget-view+json": {
       "version_major": 2,
       "version_minor": 0,
       "model_id": "539dddad0bea4fd1a5348ea5cf7256d6"
      }
     },
     "metadata": {},
     "output_type": "display_data"
    },
    {
     "data": {
      "text/plain": "Generating train split: 0 examples [00:00, ? examples/s]",
      "application/vnd.jupyter.widget-view+json": {
       "version_major": 2,
       "version_minor": 0,
       "model_id": "67b00683be144c9b8b42340df4c00e62"
      }
     },
     "metadata": {},
     "output_type": "display_data"
    },
    {
     "data": {
      "text/plain": "Downloading data files:   0%|          | 0/1 [00:00<?, ?it/s]",
      "application/vnd.jupyter.widget-view+json": {
       "version_major": 2,
       "version_minor": 0,
       "model_id": "175cf17a0052412fa582d2c0e0681477"
      }
     },
     "metadata": {},
     "output_type": "display_data"
    },
    {
     "data": {
      "text/plain": "Extracting data files:   0%|          | 0/1 [00:00<?, ?it/s]",
      "application/vnd.jupyter.widget-view+json": {
       "version_major": 2,
       "version_minor": 0,
       "model_id": "1ed48ff3b7844005b5b9970e223f6907"
      }
     },
     "metadata": {},
     "output_type": "display_data"
    },
    {
     "data": {
      "text/plain": "Generating train split: 0 examples [00:00, ? examples/s]",
      "application/vnd.jupyter.widget-view+json": {
       "version_major": 2,
       "version_minor": 0,
       "model_id": "57e85208857b40d2973511be55f07444"
      }
     },
     "metadata": {},
     "output_type": "display_data"
    },
    {
     "data": {
      "text/plain": "Downloading data files:   0%|          | 0/1 [00:00<?, ?it/s]",
      "application/vnd.jupyter.widget-view+json": {
       "version_major": 2,
       "version_minor": 0,
       "model_id": "b49740c237e24437bacc178169f58848"
      }
     },
     "metadata": {},
     "output_type": "display_data"
    },
    {
     "data": {
      "text/plain": "Extracting data files:   0%|          | 0/1 [00:00<?, ?it/s]",
      "application/vnd.jupyter.widget-view+json": {
       "version_major": 2,
       "version_minor": 0,
       "model_id": "9c7eb69bbcdb4e8583d5807083444cbf"
      }
     },
     "metadata": {},
     "output_type": "display_data"
    },
    {
     "data": {
      "text/plain": "Generating train split: 0 examples [00:00, ? examples/s]",
      "application/vnd.jupyter.widget-view+json": {
       "version_major": 2,
       "version_minor": 0,
       "model_id": "c94fb3a322cc43dfae055a91da49fa84"
      }
     },
     "metadata": {},
     "output_type": "display_data"
    }
   ],
   "source": [
    "# 加载数据集\n",
    "from datasets import load_dataset, DatasetDict\n",
    "\n",
    "dataset_train = load_dataset('csv', data_files='data/train.csv', encoding='utf-8')\n",
    "dataset_test = load_dataset('csv', data_files='data/test.csv', encoding='utf-8')\n",
    "dataset_valid = load_dataset('csv', data_files='data/valid.csv', encoding='utf-8')\n",
    "dataset = DatasetDict({'train': dataset_train, 'test': dataset_test, 'validation': dataset_valid})\n",
    "# dataset = DatasetDict({'test': dataset_test})"
   ],
   "metadata": {
    "collapsed": false,
    "ExecuteTime": {
     "end_time": "2024-01-06T02:10:26.755796200Z",
     "start_time": "2024-01-06T02:10:21.807997900Z"
    }
   },
   "id": "14b5c2fea9293287"
  },
  {
   "cell_type": "code",
   "execution_count": 5,
   "outputs": [
    {
     "data": {
      "text/plain": "Map:   0%|          | 0/49753 [00:00<?, ? examples/s]",
      "application/vnd.jupyter.widget-view+json": {
       "version_major": 2,
       "version_minor": 0,
       "model_id": "e9960f4e104b4473a7c56da6ded5aa70"
      }
     },
     "metadata": {},
     "output_type": "display_data"
    },
    {
     "data": {
      "text/plain": "Map:   0%|          | 0/10323 [00:00<?, ? examples/s]",
      "application/vnd.jupyter.widget-view+json": {
       "version_major": 2,
       "version_minor": 0,
       "model_id": "7787cfa7dc254872a58e649c3398f47e"
      }
     },
     "metadata": {},
     "output_type": "display_data"
    },
    {
     "data": {
      "text/plain": "Map:   0%|          | 0/9775 [00:00<?, ? examples/s]",
      "application/vnd.jupyter.widget-view+json": {
       "version_major": 2,
       "version_minor": 0,
       "model_id": "0243b1037fbd4812a2303eed49798de4"
      }
     },
     "metadata": {},
     "output_type": "display_data"
    }
   ],
   "source": [
    "# 分词\n",
    "from transformers import RobertaTokenizer\n",
    "\n",
    "tokenizer = RobertaTokenizer.from_pretrained(\"roberta-base\")\n",
    "def encode_batch(batch):\n",
    "    return tokenizer(batch['text'], padding='max_length', truncation=True, max_length=48, return_tensors=\"pt\")\n",
    "\n",
    "dataset = {split: dataset[split].map(encode_batch, batched=True) for split in dataset.keys()}\n",
    "dataset['test']['train'] = dataset['test']['train'].remove_columns('text')\n",
    "dataset['train']['train'] = dataset['train']['train'].remove_columns('text')\n",
    "dataset['validation']['train'] = dataset['validation']['train'].remove_columns('text')"
   ],
   "metadata": {
    "collapsed": false,
    "ExecuteTime": {
     "end_time": "2024-01-06T02:10:40.212693Z",
     "start_time": "2024-01-06T02:10:26.739430500Z"
    }
   },
   "id": "c76569616aef5653"
  },
  {
   "cell_type": "code",
   "execution_count": 6,
   "outputs": [],
   "source": [
    "from utils import get_sentence_rel\n",
    "\n",
    "# 获取边关系\n",
    "train_sen_rel = get_sentence_rel(path='data/train.csv')\n",
    "test_sen_rel = get_sentence_rel(path='data/test.csv')\n",
    "valid_sen_rel = get_sentence_rel(path='data/valid.csv')"
   ],
   "metadata": {
    "collapsed": false,
    "ExecuteTime": {
     "end_time": "2024-01-06T02:10:41.474390900Z",
     "start_time": "2024-01-06T02:10:40.215687Z"
    }
   },
   "id": "f26eb199a8905764"
  },
  {
   "cell_type": "code",
   "execution_count": 7,
   "outputs": [],
   "source": [
    "from utils import spilt_node\n",
    "\n",
    "train_data = spilt_node(dataset['train']['train'])\n",
    "test_data = spilt_node(dataset['test']['train'])\n",
    "\n",
    "train_dataset = CustomDataset(train_data, train_sen_rel, 20, 8)\n",
    "test_dataset = CustomDataset(test_data, test_sen_rel, 20, 8)\n",
    "\n",
    "train_loader = DataLoader(train_dataset, batch_size=16, shuffle=True)\n",
    "test_loader = DataLoader(test_dataset, batch_size=16, shuffle=True)"
   ],
   "metadata": {
    "collapsed": false,
    "ExecuteTime": {
     "end_time": "2024-01-06T02:10:49.407179500Z",
     "start_time": "2024-01-06T02:10:41.477384500Z"
    }
   },
   "id": "e2f3ae016e94b4c2"
  },
  {
   "cell_type": "code",
   "execution_count": 8,
   "outputs": [
    {
     "name": "stderr",
     "output_type": "stream",
     "text": [
      "Some weights of RobertaModel were not initialized from the model checkpoint at roberta-base and are newly initialized: ['roberta.pooler.dense.weight', 'roberta.pooler.dense.bias']\n",
      "You should probably TRAIN this model on a down-stream task to be able to use it for predictions and inference.\n",
      "Some weights of RobertaModel were not initialized from the model checkpoint at roberta-base and are newly initialized: ['roberta.pooler.dense.weight', 'roberta.pooler.dense.bias']\n",
      "You should probably TRAIN this model on a down-stream task to be able to use it for predictions and inference.\n",
      "Some weights of RobertaModel were not initialized from the model checkpoint at roberta-base and are newly initialized: ['roberta.pooler.dense.weight', 'roberta.pooler.dense.bias']\n",
      "You should probably TRAIN this model on a down-stream task to be able to use it for predictions and inference.\n"
     ]
    }
   ],
   "source": [
    "device = torch.device(\"cuda\" if torch.cuda.is_available() else \"cpu\")\n",
    "model = RobertaGAT(\"roberta-base\", num_classes=4)\n",
    "model.roberta_first_half.to('cuda:0')\n",
    "model.roberta_second_half.to('cuda:1')\n",
    "\n",
    "weights = torch.tensor([0.1915, 0.2766, 0.3404, 0.1915], dtype=torch.float32)\n",
    "weights = weights.to('cuda:1')  \n",
    "\n",
    "optimizer = torch.optim.Adam(model.parameters(), lr=1e-5, weight_decay=1e-5)\n",
    "# optimizer = torch.optim.AdamW(model.parameters(), lr=1e-5, weight_decay=1e-4)\n",
    "\n",
    "criterion = nn.CrossEntropyLoss(ignore_index=4, weight=weights)\n",
    "num_epochs = 50\n"
   ],
   "metadata": {
    "collapsed": false,
    "ExecuteTime": {
     "end_time": "2024-01-06T02:10:50.576775600Z",
     "start_time": "2024-01-06T02:10:49.409179900Z"
    }
   },
   "id": "6092069c0e03ef26"
  },
  {
   "cell_type": "code",
   "execution_count": null,
   "outputs": [
    {
     "name": "stdout",
     "output_type": "stream",
     "text": [
      "Epoch 1/50, Training Loss: 0.5991688676915325, Testing Loss: 0.41299541451429067, Accuracy: 0.7748321765843669, Recall: 0.6515334270038231, F1 Score: 0.6283886158446039\n",
      "Epoch 2/50, Training Loss: 0.3664336591795251, Testing Loss: 0.36449033727771357, Accuracy: 0.7949709864603481, Recall: 0.6680656818025331, F1 Score: 0.6486159448934632\n"
     ]
    }
   ],
   "source": [
    "from sklearn.metrics import accuracy_score, recall_score, f1_score\n",
    "\n",
    "for epoch in range(num_epochs):\n",
    "    model.train()\n",
    "    total_loss = 0\n",
    "\n",
    "    for batch in train_loader:\n",
    "        input_ids = batch[0]['x']\n",
    "        attention_mask = batch[0]['mask']\n",
    "        labels = batch[0]['y']\n",
    "        edge_index = batch[0]['edge_index']\n",
    "        num_nodes_graph = 0\n",
    "\n",
    "        for i in range(1, len(batch)):\n",
    "            edge_index_tmp = (batch[i]['edge_index'] + num_nodes_graph)\n",
    "            edge_index = torch.cat((edge_index, edge_index_tmp), dim=1)\n",
    "            num_nodes_graph += batch[i]['x'].size(0)\n",
    "            input_ids = torch.cat((input_ids, batch[i]['x']), dim=0)\n",
    "            attention_mask  = torch.cat((attention_mask, batch[i]['mask']), dim=0)\n",
    "            labels = torch.cat((labels, batch[i]['y']), dim=0)\n",
    "\n",
    "        input_ids = input_ids.to('cuda:0')\n",
    "        attention_mask = attention_mask.to('cuda:0')\n",
    "        edge_index = edge_index.to('cuda:1')\n",
    "        labels = labels.to('cuda:1')\n",
    "\n",
    "        optimizer.zero_grad()\n",
    "\n",
    "        output, weight1 = model(input_ids, attention_mask, edge_index)\n",
    "        loss = criterion(output.to(\"cuda:1\"), labels)\n",
    "\n",
    "        loss.backward()\n",
    "        optimizer.step()\n",
    "        total_loss += loss.item()\n",
    "\n",
    "        torch.cuda.empty_cache()\n",
    "\n",
    "    avg_loss = total_loss / len(train_loader)\n",
    "    \n",
    "    torch.save(model.state_dict(), f'./model/model_epoch_{epoch}.pth')\n",
    "    model.eval()  # 测试\n",
    "    total_test_loss = 0\n",
    "    all_labels = []\n",
    "    all_preds = []\n",
    "    with torch.no_grad():  \n",
    "        for batch in test_loader:\n",
    "            input_ids = batch[0]['x']\n",
    "            attention_mask = batch[0]['mask']\n",
    "            labels = batch[0]['y']\n",
    "            edge_index = batch[0]['edge_index']\n",
    "            num_nodes_graph = 0\n",
    "            \n",
    "            for i in range(1, len(batch)):\n",
    "                edge_index_tmp = (batch[i]['edge_index'] + num_nodes_graph)\n",
    "                edge_index = torch.cat((edge_index, edge_index_tmp), dim=1)\n",
    "                num_nodes_graph += batch[i]['x'].size(0)\n",
    "                input_ids = torch.cat((input_ids, batch[i]['x']), dim=0)\n",
    "                attention_mask  = torch.cat((attention_mask, batch[i]['mask']), dim=0)\n",
    "                labels = torch.cat((labels, batch[i]['y']), dim=0)\n",
    "                \n",
    "            input_ids = input_ids.to('cuda:0')\n",
    "            attention_mask = attention_mask.to('cuda:0')\n",
    "            edge_index = edge_index.to('cuda:1')\n",
    "            labels = labels.to('cuda:1')\n",
    "            \n",
    "            output, weight1 = model(input_ids, attention_mask, edge_index)\n",
    "            loss = criterion(output.to(\"cuda:1\"), labels)\n",
    "            total_test_loss += loss.item()\n",
    "            \n",
    "            preds = output.argmax(dim=1)\n",
    "\n",
    "            all_labels.extend(labels.cpu().numpy())\n",
    "            all_preds.extend(preds.cpu().numpy())\n",
    "            torch.cuda.empty_cache()\n",
    "            \n",
    "    avg_test_loss = total_test_loss / len(test_loader)\n",
    "\n",
    "    accuracy = accuracy_score(all_labels, all_preds)\n",
    "    recall = recall_score(all_labels, all_preds, average='macro')\n",
    "    f1 = f1_score(all_labels, all_preds, average='macro')\n",
    "    \n",
    "    print(f\"Epoch {epoch+1}/{num_epochs}, Training Loss: {avg_loss}, Testing Loss: {avg_test_loss}, Accuracy: {accuracy}, Recall: {recall}, F1 Score: {f1}\") "
   ],
   "metadata": {
    "collapsed": false,
    "is_executing": true,
    "ExecuteTime": {
     "start_time": "2024-01-06T02:10:50.582784Z"
    }
   },
   "id": "cb5ba0e5a56a2b99"
  },
  {
   "cell_type": "code",
   "execution_count": null,
   "outputs": [],
   "source": [
    "    # # model = RobertaGAT(roberta_model_name=\"roberta-base\", num_classes=4)\n",
    "    # model.load_state_dict(torch.load('./model/model.pth'))\n",
    "    # \n",
    "    # model.eval()\n",
    "    # total_test_loss = 0\n",
    "    # all_labels = []\n",
    "    # all_preds = []\n",
    "    # for batch in test_loader:\n",
    "    #         input_ids = batch[0]['x']\n",
    "    #         attention_mask = batch[0]['mask']\n",
    "    #         labels = batch[0]['y']\n",
    "    #         edge_index = batch[0]['edge_index']\n",
    "    #         num_nodes_graph = 0\n",
    "    #         \n",
    "    #         for i in range(1, len(batch)):\n",
    "    #             edge_index_tmp = (batch[i]['edge_index'] + num_nodes_graph)\n",
    "    #             edge_index = torch.cat((edge_index, edge_index_tmp), dim=1)\n",
    "    #             num_nodes_graph += batch[i]['x'].size(0)\n",
    "    #             input_ids = torch.cat((input_ids, batch[i]['x']), dim=0)\n",
    "    #             attention_mask  = torch.cat((attention_mask, batch[i]['mask']), dim=0)\n",
    "    #             labels = torch.cat((labels, batch[i]['y']), dim=0)\n",
    "    #             \n",
    "    #         input_ids = input_ids.to('cuda:0')\n",
    "    #         attention_mask = attention_mask.to('cuda:0')\n",
    "    #         edge_index = edge_index.to('cuda:1')\n",
    "    #         labels = labels.to('cuda:1')\n",
    "    #         \n",
    "    #         output, weight1 = model(input_ids, attention_mask, edge_index)\n",
    "    #         loss = criterion(output.to(\"cuda:1\"), labels)\n",
    "    #         total_test_loss += loss.item()\n",
    "    #         \n",
    "    #         preds = output.argmax(dim=1)\n",
    "    # \n",
    "    #         all_labels.extend(labels.cpu().numpy())\n",
    "    #         all_preds.extend(preds.cpu().numpy())\n",
    "    #         torch.cuda.empty_cache()\n",
    "    #         \n",
    "    # avg_test_loss = total_test_loss / len(test_loader)\n",
    "    # \n",
    "    # accuracy = accuracy_score(all_labels, all_preds)\n",
    "    # recall = recall_score(all_labels, all_preds, average='macro')\n",
    "    # f1 = f1_score(all_labels, all_preds, average='macro')\n",
    "    # \n",
    "    # print(f\"Epoch {epoch+1}/{num_epochs}, Training Loss: {'avg_loss'}, Testing Loss: {avg_test_loss}, Accuracy: {accuracy}, Recall: {recall}, F1 Score: {f1}\") "
   ],
   "metadata": {
    "collapsed": false,
    "is_executing": true
   },
   "id": "bbe5df6de917c0f4"
  }
 ],
 "metadata": {
  "kernelspec": {
   "display_name": "Python 3",
   "language": "python",
   "name": "python3"
  },
  "language_info": {
   "codemirror_mode": {
    "name": "ipython",
    "version": 2
   },
   "file_extension": ".py",
   "mimetype": "text/x-python",
   "name": "python",
   "nbconvert_exporter": "python",
   "pygments_lexer": "ipython2",
   "version": "2.7.6"
  }
 },
 "nbformat": 4,
 "nbformat_minor": 5
}

{
 "cells": [
  {
   "cell_type": "code",
   "execution_count": 8,
   "id": "initial_id",
   "metadata": {
    "collapsed": true,
    "ExecuteTime": {
     "end_time": "2024-01-02T08:25:12.725531400Z",
     "start_time": "2024-01-02T08:25:12.716004100Z"
    }
   },
   "outputs": [],
   "source": [
    "import torch\n",
    "import torch.nn as nn\n",
    "import os\n",
    "from model import RobertaGAT\n",
    "from dataset import CustomDataset\n",
    "from torch_geometric.loader import DataLoader\n",
    "\n",
    "os.environ['CUDA_LAUNCH_BLOCKING'] = \"1\""
   ]
  },
  {
   "cell_type": "code",
   "execution_count": 9,
   "outputs": [],
   "source": [
    "# 加载数据集\n",
    "from datasets import load_dataset, DatasetDict\n",
    "\n",
    "dataset_train = load_dataset('csv', data_files='train.csv', encoding='utf-8')\n",
    "dataset_test = load_dataset('csv', data_files='test.csv', encoding='utf-8')\n",
    "dataset_valid = load_dataset('csv', data_files='valid.csv', encoding='utf-8')\n",
    "dataset = DatasetDict({'train': dataset_train, 'test': dataset_test, 'validation': dataset_valid})\n",
    "# dataset = DatasetDict({'test': dataset_test})"
   ],
   "metadata": {
    "collapsed": false,
    "ExecuteTime": {
     "end_time": "2024-01-02T08:25:17.239435700Z",
     "start_time": "2024-01-02T08:25:12.729705Z"
    }
   },
   "id": "14b5c2fea9293287"
  },
  {
   "cell_type": "code",
   "execution_count": 10,
   "outputs": [
    {
     "data": {
      "text/plain": "Map:   0%|          | 0/10323 [00:00<?, ? examples/s]",
      "application/vnd.jupyter.widget-view+json": {
       "version_major": 2,
       "version_minor": 0,
       "model_id": "8f106feb04e34bfea33d619584364d43"
      }
     },
     "metadata": {},
     "output_type": "display_data"
    },
    {
     "data": {
      "text/plain": "Map:   0%|          | 0/9775 [00:00<?, ? examples/s]",
      "application/vnd.jupyter.widget-view+json": {
       "version_major": 2,
       "version_minor": 0,
       "model_id": "992bca41d5414ef4b21f13519471e66b"
      }
     },
     "metadata": {},
     "output_type": "display_data"
    }
   ],
   "source": [
    "# 分词\n",
    "from transformers import RobertaTokenizer\n",
    "\n",
    "tokenizer = RobertaTokenizer.from_pretrained(\"roberta-base\")\n",
    "def encode_batch(batch):\n",
    "    return tokenizer(batch['text'], padding='max_length', truncation=True, max_length=48, return_tensors=\"pt\")\n",
    "\n",
    "dataset = {split: dataset[split].map(encode_batch, batched=True) for split in dataset.keys()}\n",
    "dataset['test']['train'] = dataset['test']['train'].remove_columns('text')\n",
    "dataset['train']['train'] = dataset['train']['train'].remove_columns('text')\n",
    "dataset['validation']['train'] = dataset['validation']['train'].remove_columns('text')"
   ],
   "metadata": {
    "collapsed": false,
    "ExecuteTime": {
     "end_time": "2024-01-02T08:25:23.382305900Z",
     "start_time": "2024-01-02T08:25:17.241540800Z"
    }
   },
   "id": "c76569616aef5653"
  },
  {
   "cell_type": "code",
   "execution_count": 11,
   "outputs": [],
   "source": [
    "from utils import get_sentence_rel\n",
    "\n",
    "# 获取边关系\n",
    "train_sen_rel = get_sentence_rel(path='train.csv')\n",
    "test_sen_rel = get_sentence_rel(path='test.csv')\n",
    "valid_sen_rel = get_sentence_rel(path='valid.csv')"
   ],
   "metadata": {
    "collapsed": false,
    "ExecuteTime": {
     "end_time": "2024-01-02T08:25:24.344809200Z",
     "start_time": "2024-01-02T08:25:23.382305900Z"
    }
   },
   "id": "f26eb199a8905764"
  },
  {
   "cell_type": "code",
   "execution_count": 12,
   "outputs": [],
   "source": [
    "from utils import spilt_node\n",
    "\n",
    "train_data = spilt_node(dataset['train']['train'])\n",
    "test_data = spilt_node(dataset['test']['train'])\n",
    "\n",
    "train_dataset = CustomDataset(train_data, train_sen_rel, 20, 8)\n",
    "test_dataset = CustomDataset(test_data, test_sen_rel, 20, 8)\n",
    "\n",
    "train_loader = DataLoader(train_dataset, batch_size=16, shuffle=True)\n",
    "test_loader = DataLoader(test_dataset, batch_size=16, shuffle=True)"
   ],
   "metadata": {
    "collapsed": false,
    "ExecuteTime": {
     "end_time": "2024-01-02T08:25:32.306791600Z",
     "start_time": "2024-01-02T08:25:24.347945200Z"
    }
   },
   "id": "e2f3ae016e94b4c2"
  },
  {
   "cell_type": "code",
   "execution_count": 13,
   "outputs": [
    {
     "name": "stderr",
     "output_type": "stream",
     "text": [
      "Some weights of RobertaModel were not initialized from the model checkpoint at roberta-base and are newly initialized: ['roberta.pooler.dense.weight', 'roberta.pooler.dense.bias']\n",
      "You should probably TRAIN this model on a down-stream task to be able to use it for predictions and inference.\n",
      "Some weights of RobertaModel were not initialized from the model checkpoint at roberta-base and are newly initialized: ['roberta.pooler.dense.weight', 'roberta.pooler.dense.bias']\n",
      "You should probably TRAIN this model on a down-stream task to be able to use it for predictions and inference.\n",
      "Some weights of RobertaModel were not initialized from the model checkpoint at roberta-base and are newly initialized: ['roberta.pooler.dense.weight', 'roberta.pooler.dense.bias']\n",
      "You should probably TRAIN this model on a down-stream task to be able to use it for predictions and inference.\n"
     ]
    }
   ],
   "source": [
    "device = torch.device(\"cuda\" if torch.cuda.is_available() else \"cpu\")\n",
    "model = RobertaGAT(\"roberta-base\", num_classes=4)\n",
    "model.roberta_first_half.to('cuda:0')\n",
    "model.roberta_second_half.to('cuda:1')\n",
    "\n",
    "weights = torch.tensor([0.1915, 0.2766, 0.3404, 0.1915], dtype=torch.float32)\n",
    "weights = weights.to('cuda:1')  \n",
    "\n",
    "# optimizer = torch.optim.Adam(model.parameters(), lr=0.01)\n",
    "optimizer = torch.optim.AdamW(model.parameters(), lr=1e-6, weight_decay=1e-4)\n",
    "\n",
    "criterion = nn.CrossEntropyLoss(ignore_index=4, weight=weights)\n",
    "num_epochs = 50\n",
    "\n",
    "# writer = SummaryWriter('log/robert-gat')"
   ],
   "metadata": {
    "collapsed": false,
    "ExecuteTime": {
     "end_time": "2024-01-02T08:25:33.694417400Z",
     "start_time": "2024-01-02T08:25:32.307791400Z"
    }
   },
   "id": "6092069c0e03ef26"
  },
  {
   "cell_type": "code",
   "execution_count": 14,
   "outputs": [
    {
     "name": "stdout",
     "output_type": "stream",
     "text": [
      "Epoch 1/50, Training Loss: 1.2982218308108193, Testing Loss: 0.7862927552900816, Accuracy: 0.6123563545340767, Recall: 0.4793921299517835, F1 Score: 0.4446100302774011\n",
      "Epoch 2/50, Training Loss: 0.594910149882128, Testing Loss: 0.4986977553681323, Accuracy: 0.7438844009557402, Recall: 0.624815977882143, F1 Score: 0.6009878004332174\n",
      "Epoch 3/50, Training Loss: 0.4875512620904943, Testing Loss: 0.4514888893616827, Accuracy: 0.7678916827852998, Recall: 0.6486419418917118, F1 Score: 0.623994635486641\n",
      "Epoch 4/50, Training Loss: 0.45367323631768697, Testing Loss: 0.4379161808051561, Accuracy: 0.7771077483217659, Recall: 0.659326099345553, F1 Score: 0.6324788588075163\n",
      "Epoch 5/50, Training Loss: 0.435842141017809, Testing Loss: 0.41798944771289825, Accuracy: 0.7825691204915235, Recall: 0.660477230263532, F1 Score: 0.6357808888802786\n",
      "Epoch 6/50, Training Loss: 0.4128171567405973, Testing Loss: 0.40924267235555145, Accuracy: 0.7876891569006713, Recall: 0.667738961559088, F1 Score: 0.6424909699198758\n",
      "Epoch 7/50, Training Loss: 0.4047819898351208, Testing Loss: 0.39855868643835973, Accuracy: 0.7911025145067698, Recall: 0.6690995737529827, F1 Score: 0.6442931796980694\n",
      "Epoch 8/50, Training Loss: 0.3930472350055045, Testing Loss: 0.39261384739687566, Accuracy: 0.7941745363522585, Recall: 0.6724030107640223, F1 Score: 0.6473750089810529\n",
      "Epoch 9/50, Training Loss: 0.3855963185593322, Testing Loss: 0.39161518372987447, Accuracy: 0.7961087723290476, Recall: 0.676488346268053, F1 Score: 0.6501518870354271\n",
      "Epoch 10/50, Training Loss: 0.37392627063033346, Testing Loss: 0.3827388345410949, Accuracy: 0.7971327796108773, Recall: 0.6755297461177465, F1 Score: 0.6499150526837799\n",
      "Epoch 11/50, Training Loss: 0.3695550297315304, Testing Loss: 0.39197023291336863, Accuracy: 0.7991807941745364, Recall: 0.6775020575601151, F1 Score: 0.6514320255055335\n",
      "Epoch 12/50, Training Loss: 0.3587813977520544, Testing Loss: 0.38675653699197265, Accuracy: 0.7944020935259984, Recall: 0.6722407847423572, F1 Score: 0.6471762979058945\n",
      "Epoch 13/50, Training Loss: 0.35193420267039605, Testing Loss: 0.3792115324421933, Accuracy: 0.7992945727614063, Recall: 0.675127483289016, F1 Score: 0.6501643952698597\n",
      "Epoch 14/50, Training Loss: 0.34871220130186814, Testing Loss: 0.3684227482268685, Accuracy: 0.800091022869496, Recall: 0.6764755591958727, F1 Score: 0.6517207493723538\n",
      "Epoch 15/50, Training Loss: 0.34422263740510733, Testing Loss: 0.376015699615604, Accuracy: 0.800204801456366, Recall: 0.6773030138686956, F1 Score: 0.6517519372351485\n",
      "Epoch 16/50, Training Loss: 0.3384296348789236, Testing Loss: 0.3890278096261777, Accuracy: 0.8006599158038458, Recall: 0.6815190500979744, F1 Score: 0.6531660927551305\n",
      "Epoch 17/50, Training Loss: 0.33291292608111767, Testing Loss: 0.38742317376952423, Accuracy: 0.7986119012401866, Recall: 0.6760947731715197, F1 Score: 0.6494974998872729\n",
      "Epoch 18/50, Training Loss: 0.32611285645391913, Testing Loss: 0.3731460108568794, Accuracy: 0.8036181590624645, Recall: 0.6842860723160703, F1 Score: 0.6560155242484548\n",
      "Epoch 19/50, Training Loss: 0.32154730650094837, Testing Loss: 0.3804405080644708, Accuracy: 0.8004323586301059, Recall: 0.6768504621747855, F1 Score: 0.651593276464131\n",
      "Epoch 20/50, Training Loss: 0.3234673361856859, Testing Loss: 0.3625544352751029, Accuracy: 0.8014563659119354, Recall: 0.6781383573371612, F1 Score: 0.6521334808763306\n",
      "Epoch 21/50, Training Loss: 0.31880079897550434, Testing Loss: 0.38601858717830556, Accuracy: 0.7983843440664466, Recall: 0.6783914861975465, F1 Score: 0.650185608218082\n",
      "Epoch 22/50, Training Loss: 0.31255556086262504, Testing Loss: 0.3603246580613287, Accuracy: 0.8080555239503925, Recall: 0.6868001356597757, F1 Score: 0.6587962070732328\n",
      "Epoch 23/50, Training Loss: 0.30724694547089904, Testing Loss: 0.36199055102310684, Accuracy: 0.8038457162362044, Recall: 0.6804589929558468, F1 Score: 0.6551846999810155\n",
      "Epoch 24/50, Training Loss: 0.30263891857076475, Testing Loss: 0.3639507325072038, Accuracy: 0.806917738081693, Recall: 0.6843026978317358, F1 Score: 0.6569632667234033\n",
      "Epoch 25/50, Training Loss: 0.3002886156459431, Testing Loss: 0.3651147516150224, Accuracy: 0.8066901809079531, Recall: 0.6847545376325759, F1 Score: 0.6575661586130118\n",
      "Epoch 26/50, Training Loss: 0.2973049791468369, Testing Loss: 0.36764770118813767, Accuracy: 0.8079417453635226, Recall: 0.6849828433989336, F1 Score: 0.6583601831205353\n",
      "Epoch 27/50, Training Loss: 0.29225271678232884, Testing Loss: 0.36418354158338745, Accuracy: 0.8056661736261236, Recall: 0.6839812042897039, F1 Score: 0.6563092019910529\n",
      "Epoch 28/50, Training Loss: 0.2907465051163684, Testing Loss: 0.36880937179452494, Accuracy: 0.8056661736261236, Recall: 0.6840721920672898, F1 Score: 0.6562663370514223\n",
      "Epoch 29/50, Training Loss: 0.2861077640574057, Testing Loss: 0.3597512190279208, Accuracy: 0.807031516668563, Recall: 0.6863569310396954, F1 Score: 0.6573963857567253\n",
      "Epoch 30/50, Training Loss: 0.2817632681229612, Testing Loss: 0.36764715219798844, Accuracy: 0.8080555239503925, Recall: 0.6857879876673916, F1 Score: 0.6582025291928881\n",
      "Epoch 31/50, Training Loss: 0.280621774822146, Testing Loss: 0.3563127976499106, Accuracy: 0.8114688815564911, Recall: 0.6898518446748719, F1 Score: 0.6620433714569002\n",
      "Epoch 32/50, Training Loss: 0.27290301491598506, Testing Loss: 0.36044056125377355, Accuracy: 0.8131755603595403, Recall: 0.6907752536656392, F1 Score: 0.6622868944352234\n",
      "Epoch 33/50, Training Loss: 0.2737038320564962, Testing Loss: 0.3623294281332116, Accuracy: 0.8061212879736034, Recall: 0.6835193348499919, F1 Score: 0.6570930766291864\n",
      "Epoch 34/50, Training Loss: 0.2712066777787366, Testing Loss: 0.35731595048778936, Accuracy: 0.8090795312322221, Recall: 0.6859627552740836, F1 Score: 0.6583697044666728\n",
      "Epoch 35/50, Training Loss: 0.26426112553575537, Testing Loss: 0.3607813390462022, Accuracy: 0.8113551029696211, Recall: 0.6890994071338333, F1 Score: 0.6614703140729408\n",
      "Epoch 36/50, Training Loss: 0.26725670531555845, Testing Loss: 0.37656797547089427, Accuracy: 0.8057799522129935, Recall: 0.6860127404004345, F1 Score: 0.6572139541580313\n",
      "Epoch 37/50, Training Loss: 0.2536368388068545, Testing Loss: 0.36222945585062627, Accuracy: 0.8113551029696211, Recall: 0.6892843871419634, F1 Score: 0.6611661516860587\n",
      "Epoch 38/50, Training Loss: 0.255590140410177, Testing Loss: 0.37285653776244115, Accuracy: 0.8074866310160428, Recall: 0.6852674929033731, F1 Score: 0.6572850879988745\n",
      "Epoch 39/50, Training Loss: 0.2569122605926388, Testing Loss: 0.36683807169136246, Accuracy: 0.8089657526453522, Recall: 0.6882828796178267, F1 Score: 0.6596705632428166\n",
      "Epoch 40/50, Training Loss: 0.2532339280286988, Testing Loss: 0.3624386885448506, Accuracy: 0.809307088405962, Recall: 0.6851240092105634, F1 Score: 0.6584999495841093\n",
      "Epoch 41/50, Training Loss: 0.25084074365568687, Testing Loss: 0.37257153187927444, Accuracy: 0.809420866992832, Recall: 0.6879713294484613, F1 Score: 0.6595191447484955\n",
      "Epoch 42/50, Training Loss: 0.24681363991656147, Testing Loss: 0.37684426613544164, Accuracy: 0.8071452952554329, Recall: 0.6869892181358199, F1 Score: 0.6580360200105068\n",
      "Epoch 43/50, Training Loss: 0.24295041865699893, Testing Loss: 0.38315671447076294, Accuracy: 0.8074866310160428, Recall: 0.6827943051931434, F1 Score: 0.656217140807869\n",
      "Epoch 44/50, Training Loss: 0.24295817356515717, Testing Loss: 0.37809018124091, Accuracy: 0.8086244168847423, Recall: 0.6878263990606662, F1 Score: 0.6593162204482463\n",
      "Epoch 45/50, Training Loss: 0.24018743355850597, Testing Loss: 0.37656559873568385, Accuracy: 0.8095346455797019, Recall: 0.687440241983617, F1 Score: 0.6595840726818729\n",
      "Epoch 46/50, Training Loss: 0.23521299267208184, Testing Loss: 0.3828568384051323, Accuracy: 0.809307088405962, Recall: 0.6893742051946333, F1 Score: 0.6598895721450925\n",
      "Epoch 47/50, Training Loss: 0.23845408103623233, Testing Loss: 0.3861217388981267, Accuracy: 0.807031516668563, Recall: 0.6901683236293198, F1 Score: 0.659288097928481\n",
      "Epoch 48/50, Training Loss: 0.2322732594560136, Testing Loss: 0.38027196573583705, Accuracy: 0.8124928888383206, Recall: 0.6911677103335299, F1 Score: 0.6623287440229715\n",
      "Epoch 49/50, Training Loss: 0.22835760015052753, Testing Loss: 0.3778027558797284, Accuracy: 0.8076004096029127, Recall: 0.6856225170653973, F1 Score: 0.6572096494873927\n",
      "Epoch 50/50, Training Loss: 0.2233373047886314, Testing Loss: 0.38349809223099757, Accuracy: 0.8105586528615315, Recall: 0.688563168684273, F1 Score: 0.6603250964966991\n"
     ]
    },
    {
     "data": {
      "text/plain": "<Figure size 640x480 with 0 Axes>"
     },
     "metadata": {},
     "output_type": "display_data"
    }
   ],
   "source": [
    "from sklearn.metrics import accuracy_score, recall_score, f1_score\n",
    "import matplotlib.pyplot as plt\n",
    "\n",
    "for epoch in range(num_epochs):\n",
    "    model.train()\n",
    "    total_loss = 0\n",
    "    \n",
    "    for batch in train_loader:\n",
    "        input_ids = batch[0]['x']\n",
    "        attention_mask = batch[0]['mask']\n",
    "        labels = batch[0]['y']\n",
    "        edge_index = batch[0]['edge_index']\n",
    "        num_nodes_graph = 0\n",
    "        \n",
    "        for i in range(1, len(batch)):\n",
    "            edge_index_tmp = (batch[i]['edge_index'] + num_nodes_graph)\n",
    "            edge_index = torch.cat((edge_index, edge_index_tmp), dim=1)\n",
    "            num_nodes_graph += batch[i]['x'].size(0)\n",
    "            input_ids = torch.cat((input_ids, batch[i]['x']), dim=0)\n",
    "            attention_mask  = torch.cat((attention_mask, batch[i]['mask']), dim=0)\n",
    "            labels = torch.cat((labels, batch[i]['y']), dim=0)\n",
    "            \n",
    "        input_ids = input_ids.to('cuda:0')\n",
    "        attention_mask = attention_mask.to('cuda:0')\n",
    "        edge_index = edge_index.to('cuda:1')\n",
    "        labels = labels.to('cuda:1')\n",
    "        \n",
    "        optimizer.zero_grad()\n",
    "        \n",
    "        output, weight1 = model(input_ids, attention_mask, edge_index)\n",
    "        loss = criterion(output.to(\"cuda:1\"), labels)\n",
    "        \n",
    "        loss.backward()\n",
    "        optimizer.step()\n",
    "        total_loss += loss.item()\n",
    "        \n",
    "        torch.cuda.empty_cache()\n",
    "\n",
    "    avg_loss = total_loss / len(train_loader)\n",
    "\n",
    "    model.eval()  # 测试\n",
    "    total_test_loss = 0\n",
    "    all_labels = []\n",
    "    all_preds = []\n",
    "    with torch.no_grad():  \n",
    "        for batch in test_loader:\n",
    "            input_ids = batch[0]['x']\n",
    "            attention_mask = batch[0]['mask']\n",
    "            labels = batch[0]['y']\n",
    "            edge_index = batch[0]['edge_index']\n",
    "            num_nodes_graph = 0\n",
    "            \n",
    "            for i in range(1, len(batch)):\n",
    "                edge_index_tmp = (batch[i]['edge_index'] + num_nodes_graph)\n",
    "                edge_index = torch.cat((edge_index, edge_index_tmp), dim=1)\n",
    "                num_nodes_graph += batch[i]['x'].size(0)\n",
    "                input_ids = torch.cat((input_ids, batch[i]['x']), dim=0)\n",
    "                attention_mask  = torch.cat((attention_mask, batch[i]['mask']), dim=0)\n",
    "                labels = torch.cat((labels, batch[i]['y']), dim=0)\n",
    "                \n",
    "            input_ids = input_ids.to('cuda:0')\n",
    "            attention_mask = attention_mask.to('cuda:0')\n",
    "            edge_index = edge_index.to('cuda:1')\n",
    "            labels = labels.to('cuda:1')\n",
    "            \n",
    "            output, weight1 = model(input_ids, attention_mask, edge_index)\n",
    "            loss = criterion(output.to(\"cuda:1\"), labels)\n",
    "            total_test_loss += loss.item()\n",
    "            \n",
    "            preds = output.argmax(dim=1)\n",
    "\n",
    "            all_labels.extend(labels.cpu().numpy())\n",
    "            all_preds.extend(preds.cpu().numpy())\n",
    "            torch.cuda.empty_cache()\n",
    "            \n",
    "    avg_test_loss = total_test_loss / len(test_loader)\n",
    "\n",
    "    accuracy = accuracy_score(all_labels, all_preds)\n",
    "    recall = recall_score(all_labels, all_preds, average='macro')\n",
    "    f1 = f1_score(all_labels, all_preds, average='macro')\n",
    "   \n",
    "    print(f\"Epoch {epoch+1}/{num_epochs}, Training Loss: {avg_loss}, Testing Loss: {avg_test_loss}, Accuracy: {accuracy}, Recall: {recall}, F1 Score: {f1}\")\n",
    "    \n",
    "    \n",
    "plt.tight_layout()\n",
    "plt.savefig('training_performance.png')\n",
    "plt.show()"
   ],
   "metadata": {
    "collapsed": false,
    "ExecuteTime": {
     "end_time": "2024-01-02T10:22:20.325641900Z",
     "start_time": "2024-01-02T08:25:33.701959300Z"
    }
   },
   "id": "cb5ba0e5a56a2b99"
  }
 ],
 "metadata": {
  "kernelspec": {
   "display_name": "Python 3",
   "language": "python",
   "name": "python3"
  },
  "language_info": {
   "codemirror_mode": {
    "name": "ipython",
    "version": 2
   },
   "file_extension": ".py",
   "mimetype": "text/x-python",
   "name": "python",
   "nbconvert_exporter": "python",
   "pygments_lexer": "ipython2",
   "version": "2.7.6"
  }
 },
 "nbformat": 4,
 "nbformat_minor": 5
}

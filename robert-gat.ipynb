{
 "cells": [
  {
   "cell_type": "code",
   "execution_count": 1,
   "id": "initial_id",
   "metadata": {
    "collapsed": true,
    "ExecuteTime": {
     "end_time": "2023-12-25T07:51:27.353299400Z",
     "start_time": "2023-12-25T07:51:24.009177700Z"
    }
   },
   "outputs": [],
   "source": [
    "import torch\n",
    "import torch.nn as nn\n",
    "import os\n",
    "from model import RobertaGAT\n",
    "from dataset import CustomDataset\n",
    "from torch_geometric.loader import DataLoader\n",
    "\n",
    "os.environ['CUDA_LAUNCH_BLOCKING'] = \"1\""
   ]
  },
  {
   "cell_type": "code",
   "execution_count": 2,
   "outputs": [],
   "source": [
    "# 加载数据集\n",
    "from datasets import load_dataset, DatasetDict\n",
    "\n",
    "dataset_train = load_dataset('csv', data_files='data/train.csv', encoding='utf-8')\n",
    "dataset_test = load_dataset('csv', data_files='data/test.csv', encoding='utf=8')\n",
    "dataset_valid = load_dataset('csv', data_files='data/validation.csv', encoding='utf-8')\n",
    "dataset = DatasetDict({'train': dataset_train, 'test': dataset_test, 'validation': dataset_valid})\n",
    "# dataset = DatasetDict({'test': dataset_test})"
   ],
   "metadata": {
    "collapsed": false,
    "ExecuteTime": {
     "end_time": "2023-12-25T07:51:32.352424Z",
     "start_time": "2023-12-25T07:51:27.356259800Z"
    }
   },
   "id": "14b5c2fea9293287"
  },
  {
   "cell_type": "code",
   "execution_count": 3,
   "outputs": [
    {
     "data": {
      "text/plain": "Map:   0%|          | 0/16217 [00:00<?, ? examples/s]",
      "application/vnd.jupyter.widget-view+json": {
       "version_major": 2,
       "version_minor": 0,
       "model_id": "e935391bf5b943c18935dc9c45f981b5"
      }
     },
     "metadata": {},
     "output_type": "display_data"
    },
    {
     "data": {
      "text/plain": "Map:   0%|          | 0/17102 [00:00<?, ? examples/s]",
      "application/vnd.jupyter.widget-view+json": {
       "version_major": 2,
       "version_minor": 0,
       "model_id": "135afdc92aeb43d4946cd79a4e1bbe8b"
      }
     },
     "metadata": {},
     "output_type": "display_data"
    }
   ],
   "source": [
    "# 分词\n",
    "from transformers import RobertaTokenizer\n",
    "\n",
    "tokenizer = RobertaTokenizer.from_pretrained(\"roberta-base\")\n",
    "def encode_batch(batch):\n",
    "    return tokenizer(batch['text'], padding='max_length', truncation=True, max_length=224, return_tensors=\"pt\")\n",
    "\n",
    "dataset = {split: dataset[split].map(encode_batch, batched=True) for split in dataset.keys()}\n",
    "dataset['test']['train'] = dataset['test']['train'].remove_columns('text')\n",
    "dataset['train']['train'] = dataset['train']['train'].remove_columns('text')\n",
    "dataset['validation']['train'] = dataset['validation']['train'].remove_columns('text')"
   ],
   "metadata": {
    "collapsed": false,
    "ExecuteTime": {
     "end_time": "2023-12-25T07:51:41.461405600Z",
     "start_time": "2023-12-25T07:51:32.353419300Z"
    }
   },
   "id": "c76569616aef5653"
  },
  {
   "cell_type": "code",
   "execution_count": 4,
   "outputs": [],
   "source": [
    "# 获取边关系\n",
    "from utils import get_sentence_rel\n",
    "# 训练集边关系\n",
    "train_sen_rel = get_sentence_rel(path='data/train.csv')\n",
    "# 测试集合边关系\n",
    "test_sen_rel = get_sentence_rel(path='data/test.csv')\n",
    "# 验证集合边关系\n",
    "valid_sen_rel = get_sentence_rel(path='data/validation.csv')"
   ],
   "metadata": {
    "collapsed": false,
    "ExecuteTime": {
     "end_time": "2023-12-25T07:51:43.404925100Z",
     "start_time": "2023-12-25T07:51:41.462500800Z"
    }
   },
   "id": "f26eb199a8905764"
  },
  {
   "cell_type": "code",
   "execution_count": 5,
   "outputs": [],
   "source": [
    "import copy\n",
    "from utils import spilt_node\n",
    "\n",
    "train_data = spilt_node(dataset['train']['train'])\n",
    "test_data = spilt_node(dataset['test']['train'])\n",
    "train_dataset = CustomDataset(train_data, train_sen_rel, 25)\n",
    "test_dataset = CustomDataset(test_data, test_sen_rel, 25)\n",
    "\n",
    "train_loader = DataLoader(train_dataset, batch_size=4, shuffle=True)\n",
    "test_loader = DataLoader(test_dataset, batch_size=4, shuffle=True)"
   ],
   "metadata": {
    "collapsed": false,
    "ExecuteTime": {
     "end_time": "2023-12-25T07:52:19.736368100Z",
     "start_time": "2023-12-25T07:51:43.408963900Z"
    }
   },
   "id": "e2f3ae016e94b4c2"
  },
  {
   "cell_type": "code",
   "execution_count": 6,
   "outputs": [
    {
     "name": "stderr",
     "output_type": "stream",
     "text": [
      "Some weights of RobertaModel were not initialized from the model checkpoint at roberta-base and are newly initialized: ['roberta.pooler.dense.weight', 'roberta.pooler.dense.bias']\n",
      "You should probably TRAIN this model on a down-stream task to be able to use it for predictions and inference.\n",
      "Some weights of RobertaModel were not initialized from the model checkpoint at roberta-base and are newly initialized: ['roberta.pooler.dense.weight', 'roberta.pooler.dense.bias']\n",
      "You should probably TRAIN this model on a down-stream task to be able to use it for predictions and inference.\n",
      "Some weights of RobertaModel were not initialized from the model checkpoint at roberta-base and are newly initialized: ['roberta.pooler.dense.weight', 'roberta.pooler.dense.bias']\n",
      "You should probably TRAIN this model on a down-stream task to be able to use it for predictions and inference.\n"
     ]
    }
   ],
   "source": [
    "device = torch.device(\"cuda\" if torch.cuda.is_available() else \"cpu\")\n",
    "model = RobertaGAT(\"roberta-base\", num_classes=5)\n",
    "model.roberta_first_half.to('cuda:0')\n",
    "model.roberta_second_half.to('cuda:1')\n",
    "\n",
    "optimizer = torch.optim.Adam(model.parameters(), lr=0.01)\n",
    "\n",
    "criterion = nn.CrossEntropyLoss()\n",
    "num_epochs = 50\n",
    "\n",
    "# writer = SummaryWriter('log/robert-gat')"
   ],
   "metadata": {
    "collapsed": false,
    "ExecuteTime": {
     "end_time": "2023-12-25T07:52:22.751772700Z",
     "start_time": "2023-12-25T07:52:19.738533200Z"
    }
   },
   "id": "6092069c0e03ef26"
  },
  {
   "cell_type": "code",
   "execution_count": 7,
   "outputs": [],
   "source": [
    "# from sklearn.metrics import accuracy_score, recall_score, f1_score\n",
    "# \n",
    "# device = torch.device(\"cuda\" if torch.cuda.is_available() else \"cpu\")\n",
    "# model1 = RobertaGAT(\"roberta-base\", num_classes=5)\n",
    "# model2 = RobertaGAT(\"roberta-base\", num_classes=5)\n",
    "# model1.to(\"cuda:0\")\n",
    "# model2.to(\"cuda:1\")\n",
    "# optimizer1 = torch.optim.Adam(model1.parameters(), lr=0.01)\n",
    "# optimizer2 = torch.optim.Adam(model2.parameters(), lr=0.01)\n",
    "# \n",
    "# criterion = nn.CrossEntropyLoss()\n",
    "# num_epochs = 50\n",
    "# \n",
    "# # writer = SummaryWriter('log/robert-gat')\n",
    "# \n",
    "# for epoch in range(num_epochs):\n",
    "#     model1.train()\n",
    "#     model2.train()\n",
    "#     total_loss1 = 0\n",
    "#     total_loss2 = 0 \n",
    "#     for batch in train_loader:\n",
    "#         print(type(batch))\n",
    "#         print(len(batch))\n",
    "#         graph1, graph2 = batch.batch\n",
    "#         if graph1['y'].size()[0] <= 30:\n",
    "#             input_ids = graph1['x'].to('cuda:0')\n",
    "#             attention_mask = graph1['mask'].to('cuda:0')\n",
    "#             edge_index = graph1['edge_index'].to('cuda:0')\n",
    "#             labels = graph1['y'].to('cuda:0')\n",
    "#             optimizer1.zero_grad()\n",
    "#             output, weight1 = model1(input_ids, attention_mask, edge_index)\n",
    "#             loss = criterion(output[1:].to('cuda:0'), labels[1:])\n",
    "#             loss.backward()\n",
    "#             optimizer1.step()\n",
    "#             total_loss1 += loss.item()\n",
    "#         if graph2['y'].size()[0] <= 30:\n",
    "#             input_ids = graph2['x'].to('cuda:1')\n",
    "#             attention_mask = graph2['mask'].to('cuda:1')\n",
    "#             edge_index = graph2['edge_index'].to('cuda:1')\n",
    "#             labels = graph2['y'].to('cuda:1')\n",
    "#             optimizer2.zero_grad()\n",
    "#             output, weight2 = model2(input_ids, attention_mask, edge_index)\n",
    "#             loss2 = criterion(output[1:].to('cuda:1'), labels[1:])\n",
    "#             loss2.backward()\n",
    "#             optimizer2.step()\n",
    "#             total_loss2 += loss2.item()\n",
    "# \n",
    "#         \n",
    "#         \n",
    "#     avg_loss_model1 = total_loss1 / len(train_loader)\n",
    "#     avg_loss_model2 = total_loss2 / len(train_loader)\n",
    "#     # 测试部分\n",
    "#     model1.eval()  # 或者 model2.eval()，取决于您选择哪个模型进行测试\n",
    "#     total_test_loss = 0\n",
    "#     all_labels = []\n",
    "#     all_preds = []\n",
    "#     with torch.no_grad():  # 确保不计算梯度\n",
    "#         for batch in test_loader:  # 测试数据加载\n",
    "#             input_ids = batch['x'].to('cuda:0')  # 或 'cuda:1'\n",
    "#             attention_mask = batch['mask'].to('cuda:0')  # 或 'cuda:1'\n",
    "#             edge_index = batch['edge_index'].to('cuda:0')  # 或 'cuda:1'\n",
    "#             labels = batch['y'].to('cuda:0')  # 或 'cuda:1'\n",
    "# \n",
    "#             output, _ = model1(input_ids, attention_mask, edge_index)  # 或 model2\n",
    "#             loss = criterion(output[1:].to('cuda:0'), labels[1:])  # 或 'cuda:1'\n",
    "#             total_test_loss += loss.item()\n",
    "# \n",
    "#             preds = output.argmax(dim=1)\n",
    "#             all_labels.extend(labels.cpu().numpy())\n",
    "#             all_preds.extend(preds.cpu().numpy())\n",
    "# \n",
    "#     avg_test_loss = total_test_loss / len(test_loader)\n",
    "#     accuracy = accuracy_score(all_labels, all_preds)\n",
    "#     recall = recall_score(all_labels, all_preds, average='macro')\n",
    "#     f1 = f1_score(all_labels, all_preds, average='macro')\n",
    "# \n",
    "# \n",
    "#     print(f\"Epoch {epoch+1}/{num_epochs}, Training Loss: {avg_loss_model1}, Testing Loss: {avg_test_loss}, Accuracy: {accuracy}, Recall: {recall}, F1 Score: {f1}\")"
   ],
   "metadata": {
    "collapsed": false,
    "ExecuteTime": {
     "end_time": "2023-12-25T07:52:22.757903500Z",
     "start_time": "2023-12-25T07:52:22.753767800Z"
    }
   },
   "id": "16cfc58e40c73663"
  },
  {
   "cell_type": "code",
   "execution_count": null,
   "outputs": [],
   "source": [
    "from sklearn.metrics import accuracy_score, recall_score, f1_score\n",
    "import matplotlib.pyplot as plt\n",
    "\n",
    "for epoch in range(num_epochs):\n",
    "    train_losses = []\n",
    "    test_losses = []\n",
    "    accuracies = []\n",
    "    recalls = []\n",
    "    f1_scores = []\n",
    "    model.train()\n",
    "    total_loss = 0\n",
    "    for batch in train_loader:\n",
    "        s = 0\n",
    "        if len(batch) != 4:\n",
    "            continue\n",
    "        for i in range(len(batch)):\n",
    "            s += batch[i]['y'].size()[0]\n",
    "        if s > 100:\n",
    "            continue\n",
    "        #合并四个图的节点特征、标签等\n",
    "        input_ids = torch.cat((batch[0]['x'], batch[1]['x'], batch[2]['x'], batch[3]['x']), dim=0).to('cuda:0')\n",
    "        attention_mask = torch.cat((batch[0]['mask'], batch[1]['mask'], batch[2]['mask'], batch[3]['mask']), dim=0).to('cuda:0')\n",
    "        labels = torch.cat((batch[0]['y'], batch[1]['y'], batch[2]['y'], batch[3]['y']), dim=0).to('cuda:1')\n",
    "        num_nodes_graph1 = batch[0]['x'].size(0)\n",
    "        num_nodes_graph2 = batch[1]['x'].size(0) + num_nodes_graph1\n",
    "        num_nodes_graph3 = batch[2]['x'].size(0) + num_nodes_graph2\n",
    "        edge_index_1 = batch[0]['edge_index'].to('cuda:1')\n",
    "        edge_index_2 = batch[1]['edge_index'] + num_nodes_graph1  # 加上偏移\n",
    "        edge_index_3 = batch[2]['edge_index'] + num_nodes_graph2\n",
    "        edge_index_4 = batch[3]['edge_index'] + num_nodes_graph3\n",
    "        edge_index = torch.cat((edge_index_1, edge_index_2.to('cuda:1'), edge_index_3.to('cuda:1'), edge_index_4.to('cuda:1')), dim=1)\n",
    "        optimizer.zero_grad()\n",
    "        output, weight1 = model(input_ids, attention_mask, edge_index)\n",
    "        output_without_num = torch.cat((output[1:num_nodes_graph1], output[num_nodes_graph1+1:num_nodes_graph2], output[num_nodes_graph2+1:num_nodes_graph3], output[num_nodes_graph3+1:]))\n",
    "        label_without_num = torch.cat((labels[1:num_nodes_graph1], labels[num_nodes_graph1+1:num_nodes_graph2], labels[num_nodes_graph2+1:num_nodes_graph3], labels[num_nodes_graph3+1:]))\n",
    "        loss = criterion(output_without_num.to(\"cuda:1\"), label_without_num)\n",
    "        loss.backward()\n",
    "        optimizer.step()\n",
    "        total_loss += loss.item()\n",
    "        \n",
    "        torch.cuda.empty_cache()\n",
    "\n",
    "    avg_loss = total_loss / len(train_loader)\n",
    "\n",
    "    model.eval()  # 测试\n",
    "    total_test_loss = 0\n",
    "    all_labels = []\n",
    "    all_preds = []\n",
    "    with torch.no_grad():  \n",
    "        for batch in test_loader:\n",
    "            s = 0\n",
    "            if len(batch) != 4:\n",
    "                continue\n",
    "            for i in range(len(batch)):\n",
    "                s += batch[i]['y'].size()[0]\n",
    "            if s > 100:\n",
    "                continue\n",
    "            input_ids = torch.cat((batch[0]['x'], batch[1]['x'], batch[2]['x'], batch[3]['x']), dim=0).to('cuda:0')\n",
    "            attention_mask = torch.cat((batch[0]['mask'], batch[1]['mask'], batch[2]['mask'], batch[3]['mask']), dim=0).to('cuda:0')\n",
    "            labels = torch.cat((batch[0]['y'], batch[1]['y'], batch[2]['y'], batch[3]['y']), dim=0).to('cuda:1')\n",
    "            num_nodes_graph1 = batch[0]['x'].size(0)\n",
    "            num_nodes_graph2 = batch[1]['x'].size(0) + num_nodes_graph1\n",
    "            num_nodes_graph3 = batch[2]['x'].size(0) + num_nodes_graph2\n",
    "            edge_index_1 = batch[0]['edge_index'].to('cuda:1')\n",
    "            edge_index_2 = batch[1]['edge_index'] + num_nodes_graph1  # 加上偏移\n",
    "            edge_index_3 = batch[2]['edge_index'] + num_nodes_graph2\n",
    "            edge_index_4 = batch[3]['edge_index'] + num_nodes_graph3\n",
    "            edge_index = torch.cat((edge_index_1, edge_index_2.to('cuda:1'), edge_index_3.to('cuda:1'), edge_index_4.to('cuda:1')), dim=1)\n",
    "            output, weight1 = model(input_ids, attention_mask, edge_index)\n",
    "            output_without_num = torch.cat((output[1:num_nodes_graph1], output[num_nodes_graph1+1:num_nodes_graph2], output[num_nodes_graph2+1:num_nodes_graph3], output[num_nodes_graph3+1:]))\n",
    "            label_without_num = torch.cat((labels[1:num_nodes_graph1], labels[num_nodes_graph1+1:num_nodes_graph2], labels[num_nodes_graph2+1:num_nodes_graph3], labels[num_nodes_graph3+1:]))\n",
    "            loss = criterion(output_without_num.to(\"cuda:1\"), label_without_num)\n",
    "            total_test_loss += loss.item()\n",
    "\n",
    "            # 假设output是模型预测的原始分数或者概率\n",
    "            # 转换为最终类别预测（例如，使用argmax）\n",
    "            preds = output.argmax(dim=1)\n",
    "\n",
    "            # 收集所有的标签和预测结果\n",
    "            all_labels.extend(labels.cpu().numpy())\n",
    "            all_preds.extend(preds.cpu().numpy())\n",
    "            torch.cuda.empty_cache()\n",
    "    avg_test_loss = total_test_loss / len(test_loader)\n",
    "\n",
    "    accuracy = accuracy_score(all_labels, all_preds)\n",
    "    recall = recall_score(all_labels, all_preds, average='macro')\n",
    "    f1 = f1_score(all_labels, all_preds, average='macro')\n",
    "    # 在训练循环结束后\n",
    "    train_losses.append(avg_loss)\n",
    "    test_losses.append(avg_test_loss)\n",
    "    accuracies.append(accuracy)\n",
    "    recalls.append(recall)\n",
    "    f1_scores.append(f1)\n",
    "    # 训练循环结束后\n",
    "    plt.figure(figsize=(12, 4))\n",
    "\n",
    "    plt.subplot(1, 3, 1)\n",
    "    plt.plot(train_losses, label='Training Loss')\n",
    "    plt.plot(test_losses, label='Testing Loss')\n",
    "    plt.xlabel('Epoch') \n",
    "    plt.ylabel('Loss')\n",
    "    plt.legend()\n",
    "    plt.title('Loss over epochs')\n",
    "\n",
    "    plt.subplot(1, 3, 2)\n",
    "    plt.plot(accuracies, label='Accuracy')\n",
    "    plt.xlabel('Epoch')\n",
    "    plt.ylabel('Accuracy')\n",
    "    plt.legend()\n",
    "    plt.title('Accuracy over epochs')\n",
    "\n",
    "    plt.subplot(1, 3, 3)\n",
    "    plt.plot(recalls, label='Recall')\n",
    "    plt.plot(f1_scores, label='F1 Score')\n",
    "    plt.xlabel('Epoch')\n",
    "    plt.ylabel('Score')\n",
    "    plt.legend()\n",
    "    plt.title('Recall and F1 Score over epochs')\n",
    "\n",
    "    plt.tight_layout()\n",
    "    plt.show()\n",
    "\n",
    "    print(f\"Epoch {epoch+1}/{num_epochs}, Training Loss: {avg_loss}, Testing Loss: {avg_test_loss}, Accuracy: {accuracy}, Recall: {recall}, F1 Score: {f1}\")\n",
    "    \n",
    "    \n",
    "plt.tight_layout()\n",
    "plt.savefig('training_performance.png')\n",
    "plt.show()"
   ],
   "metadata": {
    "collapsed": false,
    "is_executing": true,
    "ExecuteTime": {
     "start_time": "2023-12-25T07:52:22.766140800Z"
    }
   },
   "id": "cb5ba0e5a56a2b99"
  }
 ],
 "metadata": {
  "kernelspec": {
   "display_name": "Python 3",
   "language": "python",
   "name": "python3"
  },
  "language_info": {
   "codemirror_mode": {
    "name": "ipython",
    "version": 2
   },
   "file_extension": ".py",
   "mimetype": "text/x-python",
   "name": "python",
   "nbconvert_exporter": "python",
   "pygments_lexer": "ipython2",
   "version": "2.7.6"
  }
 },
 "nbformat": 4,
 "nbformat_minor": 5
}
